{
 "cells": [
  {
   "cell_type": "code",
   "execution_count": null,
   "metadata": {},
   "outputs": [],
   "source": [
    "import numpy as np\n",
    "\n",
    "p_height = [150,60,120,160,70]\n",
    "p_weight = [60,20,55,80,25]\n",
    "weights = np.random.random_sample((5,2))\n",
    "x = np.column_stack((p_height,p_weight))\n",
    "\n",
    "print(x)\n",
    "XT = p_ha.transpose()\n",
    "print(XT)\n",
    "print(weights)"
   ]
  },
  {
   "cell_type": "code",
   "execution_count": null,
   "metadata": {},
   "outputs": [],
   "source": [
    "import dis\n",
    "\n",
    "def find_ycap(x,w):\n",
    "    y_cap = []\n",
    "    for i in x:\n",
    "        y_cap.append(i*w)\n",
    "    return y_cap\n",
    "\n",
    "def error(y,y_cap,e):\n",
    "    for i in range(len(y)):\n",
    "        e += (y[i] - y_cap[i])**2\n",
    "    #e = [(y[i] - y_cap[i])**2 for i in range(len(y))]\n",
    "    Error = e/len(y) \n",
    "    #Error = [i/len(y) for i in e]\n",
    "    print(Error)    \n",
    "    return Error\n",
    "            \n",
    "def weight(w,Error,lr):\n",
    "    wc = w - (-(Error*lr))  \n",
    "    print(wc)\n",
    "    return wc\n",
    "    \n",
    "def main():\n",
    "    #x = [1,2,3,4]\n",
    "    p_height = [150,60,120,160,70]\n",
    "    p_weight = [60,20,55,80,25]\n",
    "    x = np.column_stack((p_height,p_weight))\n",
    "    XT = p_ha.transpose()\n",
    "    y = [2,4,6,8]\n",
    "    #w = 0.8\n",
    "    weights = np.random.random_sample((5,2))\n",
    "    \n",
    "    wc,e,Error = 0,0,0\n",
    "    Error_weight_dict = {}\n",
    "    lr =  0.1\n",
    "    for i in range(10):\n",
    "        y_cap = find_ycap(x,w).copy()\n",
    "        print(f\"new y cap values : {y_cap}\")\n",
    "        Error = error(y,y_cap,e)\n",
    "        w = weight(w,Error,lr)\n",
    "        Error_weight_dict[Error] = w\n",
    "    print(Error_weight_dict)\n",
    "    print(f\"Min Error :  {min(Error_weight_dict)}\")\n",
    "    print(f\" Optimized weight:  {Error_weight_dict[min(Error_weight_dict)]}\")\n",
    "\n",
    "    \n",
    "if __name__ == \"__main__\":\n",
    "    main()"
   ]
  },
  {
   "cell_type": "code",
   "execution_count": null,
   "metadata": {},
   "outputs": [],
   "source": []
  }
 ],
 "metadata": {
  "kernelspec": {
   "display_name": "Python 3",
   "language": "python",
   "name": "python3"
  },
  "language_info": {
   "codemirror_mode": {
    "name": "ipython",
    "version": 3
   },
   "file_extension": ".py",
   "mimetype": "text/x-python",
   "name": "python",
   "nbconvert_exporter": "python",
   "pygments_lexer": "ipython3",
   "version": "3.6.5"
  }
 },
 "nbformat": 4,
 "nbformat_minor": 2
}
